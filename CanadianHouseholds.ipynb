{
 "cells": [
  {
   "cell_type": "code",
   "execution_count": 29,
   "metadata": {},
   "outputs": [
    {
     "name": "stdout",
     "output_type": "stream",
     "text": [
      "Requirement already satisfied: pandas in /Library/Frameworks/Python.framework/Versions/3.9/lib/python3.9/site-packages (2.2.3)\n",
      "Requirement already satisfied: tzdata>=2022.7 in /Library/Frameworks/Python.framework/Versions/3.9/lib/python3.9/site-packages (from pandas) (2025.2)\n",
      "Requirement already satisfied: python-dateutil>=2.8.2 in /Users/aydan/Library/Python/3.9/lib/python/site-packages (from pandas) (2.9.0.post0)\n",
      "Requirement already satisfied: numpy>=1.22.4 in /Library/Frameworks/Python.framework/Versions/3.9/lib/python3.9/site-packages (from pandas) (2.0.2)\n",
      "Requirement already satisfied: pytz>=2020.1 in /Library/Frameworks/Python.framework/Versions/3.9/lib/python3.9/site-packages (from pandas) (2025.2)\n",
      "Requirement already satisfied: six>=1.5 in /Users/aydan/Library/Python/3.9/lib/python/site-packages (from python-dateutil>=2.8.2->pandas) (1.17.0)\n",
      "\u001b[33mWARNING: You are using pip version 22.0.4; however, version 25.0.1 is available.\n",
      "You should consider upgrading via the '/usr/local/bin/python3 -m pip install --upgrade pip' command.\u001b[0m\u001b[33m\n",
      "\u001b[0mNote: you may need to restart the kernel to use updated packages.\n",
      "Requirement already satisfied: openpyxl in /Library/Frameworks/Python.framework/Versions/3.9/lib/python3.9/site-packages (3.1.5)\n",
      "Requirement already satisfied: et-xmlfile in /Library/Frameworks/Python.framework/Versions/3.9/lib/python3.9/site-packages (from openpyxl) (2.0.0)\n",
      "\u001b[33mWARNING: You are using pip version 22.0.4; however, version 25.0.1 is available.\n",
      "You should consider upgrading via the '/usr/local/bin/python3 -m pip install --upgrade pip' command.\u001b[0m\u001b[33m\n",
      "\u001b[0mNote: you may need to restart the kernel to use updated packages.\n",
      "Collecting scikit-learn\n",
      "  Downloading scikit_learn-1.6.1-cp39-cp39-macosx_12_0_arm64.whl (11.1 MB)\n",
      "\u001b[2K     \u001b[90m━━━━━━━━━━━━━━━━━━━━━━━━━━━━━━━━━━━━━━━━\u001b[0m \u001b[32m11.1/11.1 MB\u001b[0m \u001b[31m8.8 MB/s\u001b[0m eta \u001b[36m0:00:00\u001b[0m00:01\u001b[0m00:01\u001b[0m\n",
      "\u001b[?25hCollecting joblib>=1.2.0\n",
      "  Downloading joblib-1.4.2-py3-none-any.whl (301 kB)\n",
      "\u001b[2K     \u001b[90m━━━━━━━━━━━━━━━━━━━━━━━━━━━━━━━━━━━━━━━\u001b[0m \u001b[32m301.8/301.8 KB\u001b[0m \u001b[31m8.7 MB/s\u001b[0m eta \u001b[36m0:00:00\u001b[0m\n",
      "\u001b[?25hRequirement already satisfied: numpy>=1.19.5 in /Library/Frameworks/Python.framework/Versions/3.9/lib/python3.9/site-packages (from scikit-learn) (2.0.2)\n",
      "Collecting threadpoolctl>=3.1.0\n",
      "  Downloading threadpoolctl-3.6.0-py3-none-any.whl (18 kB)\n",
      "Collecting scipy>=1.6.0\n",
      "  Downloading scipy-1.13.1-cp39-cp39-macosx_12_0_arm64.whl (30.3 MB)\n",
      "\u001b[2K     \u001b[90m━━━━━━━━━━━━━━━━━━━━━━━━━━━━━━━━━━━━━━━━\u001b[0m \u001b[32m30.3/30.3 MB\u001b[0m \u001b[31m8.8 MB/s\u001b[0m eta \u001b[36m0:00:00\u001b[0m00:01\u001b[0m00:01\u001b[0m\n",
      "\u001b[?25hInstalling collected packages: threadpoolctl, scipy, joblib, scikit-learn\n",
      "Successfully installed joblib-1.4.2 scikit-learn-1.6.1 scipy-1.13.1 threadpoolctl-3.6.0\n",
      "\u001b[33mWARNING: You are using pip version 22.0.4; however, version 25.0.1 is available.\n",
      "You should consider upgrading via the '/usr/local/bin/python3 -m pip install --upgrade pip' command.\u001b[0m\u001b[33m\n",
      "\u001b[0mNote: you may need to restart the kernel to use updated packages.\n"
     ]
    }
   ],
   "source": [
    "%pip install pandas\n",
    "%pip install openpyxl\n",
    "%pip install scikit-learn\n"
   ]
  },
  {
   "cell_type": "code",
   "execution_count": 1,
   "metadata": {},
   "outputs": [],
   "source": [
    "import pandas as pd \n",
    "\n",
    "df_demo = pd.read_csv(\"Coursework Data/DemoStats.csv\")\n",
    "df_household = pd.read_csv(\"Coursework Data/HouseholdSpend.csv\")\n"
   ]
  },
  {
   "cell_type": "code",
   "execution_count": 2,
   "metadata": {},
   "outputs": [],
   "source": [
    "import pandas as pd\n",
    "\n",
    "# DemoStats metadata\n",
    "demo_change_list = pd.read_csv(\"Documentation/DemoStats 2024 - Variables Change List.csv\")\n",
    "demo_vars_list = pd.read_csv(\"Documentation/DemoStats 2024 - Variables List.csv\")\n",
    "\n",
    "# HouseholdSpend metadata\n",
    "household_change_list = pd.read_excel(\"Documentation/HouseholdSpend 2024 - Variables Change List.xlsx\")\n",
    "household_vars_list = pd.read_excel(\"Documentation/HouseholdSpend 2024 - Variables List.xlsx\")\n"
   ]
  },
  {
   "cell_type": "code",
   "execution_count": 4,
   "metadata": {},
   "outputs": [
    {
     "name": "stdout",
     "output_type": "stream",
     "text": [
      "FOUND THE FOLLOWING MATCHES:\n",
      "              DataFrame  RowIndex                 Column    Variable  \\\n",
      "0        DemoStats_List       818            Description  ECYINDFINA   \n",
      "1        DemoStats_List       818  Hierarchy Description  ECYINDFINA   \n",
      "2   HouseholdSpend_List        22            Description    HSEP001S   \n",
      "3   HouseholdSpend_List        22            Description    HSEP001S   \n",
      "4   HouseholdSpend_List        22            Description    HSEP001S   \n",
      "5   HouseholdSpend_List        37            Description     HSSH006   \n",
      "6   HouseholdSpend_List        43            Description     HSSH015   \n",
      "7   HouseholdSpend_List        47            Description     HSSH019   \n",
      "8   HouseholdSpend_List        96            Description     HSSH044   \n",
      "9   HouseholdSpend_List       170            Description     HSHC022   \n",
      "10  HouseholdSpend_List       173            Description     HSHC025   \n",
      "11  HouseholdSpend_List       224            Description     HSTR032   \n",
      "12  HouseholdSpend_List       300            Description     HSRV011   \n",
      "13  HouseholdSpend_List       410            Description     HSEP001   \n",
      "14  HouseholdSpend_List       410            Description     HSEP001   \n",
      "15  HouseholdSpend_List       410            Description     HSEP001   \n",
      "16  HouseholdSpend_List       410               Category     HSEP001   \n",
      "17  HouseholdSpend_List       410               Category     HSEP001   \n",
      "18  HouseholdSpend_List       411            Description     HSEP002   \n",
      "19  HouseholdSpend_List       411               Category     HSEP002   \n",
      "20  HouseholdSpend_List       411               Category     HSEP002   \n",
      "21  HouseholdSpend_List       412            Description     HSEP008   \n",
      "22  HouseholdSpend_List       412               Category     HSEP008   \n",
      "23  HouseholdSpend_List       412               Category     HSEP008   \n",
      "24  HouseholdSpend_List       413            Description     HSEP009   \n",
      "25  HouseholdSpend_List       413               Category     HSEP009   \n",
      "26  HouseholdSpend_List       413               Category     HSEP009   \n",
      "27  HouseholdSpend_List       414            Description     HSEP003   \n",
      "28  HouseholdSpend_List       414            Description     HSEP003   \n",
      "29  HouseholdSpend_List       414               Category     HSEP003   \n",
      "30  HouseholdSpend_List       414               Category     HSEP003   \n",
      "31  HouseholdSpend_List       415            Description     HSEP004   \n",
      "32  HouseholdSpend_List       415               Category     HSEP004   \n",
      "33  HouseholdSpend_List       415               Category     HSEP004   \n",
      "34  HouseholdSpend_List       416            Description     HSEP005   \n",
      "35  HouseholdSpend_List       416            Description     HSEP005   \n",
      "36  HouseholdSpend_List       416               Category     HSEP005   \n",
      "37  HouseholdSpend_List       416               Category     HSEP005   \n",
      "38  HouseholdSpend_List       417               Category     HSEP006   \n",
      "39  HouseholdSpend_List       417               Category     HSEP006   \n",
      "40  HouseholdSpend_List       418            Description     HSEP007   \n",
      "41  HouseholdSpend_List       418               Category     HSEP007   \n",
      "42  HouseholdSpend_List       418               Category     HSEP007   \n",
      "\n",
      "   MatchedTerm                                           FullText  \n",
      "0    insurance                           52 finance and insurance  \n",
      "1    insurance                           52 finance and insurance  \n",
      "2      pension  total personal insurance premiums and retireme...  \n",
      "3   retirement  total personal insurance premiums and retireme...  \n",
      "4    insurance  total personal insurance premiums and retireme...  \n",
      "5    insurance                        tenants' insurance premiums  \n",
      "6    insurance                 premiums for homeowners' insurance  \n",
      "7    insurance  premiums for mortgage, life and/or disability ...  \n",
      "8    insurance  property insurance for owned vacation homes or...  \n",
      "9    insurance             private health insurance plan premiums  \n",
      "10   insurance     premiums for accident and disability insurance  \n",
      "11   insurance  vehicle insurance premiums for automobiles, tr...  \n",
      "12   insurance       insurance premiums for recreational vehicles  \n",
      "13     pension  total personal insurance premiums and retireme...  \n",
      "14  retirement  total personal insurance premiums and retireme...  \n",
      "15   insurance  total personal insurance premiums and retireme...  \n",
      "16     pension                     personal insurance and pension  \n",
      "17   insurance                     personal insurance and pension  \n",
      "18   insurance  employment and quebec parental insurance premiums  \n",
      "19     pension                     personal insurance and pension  \n",
      "20   insurance                     personal insurance and pension  \n",
      "21   insurance                      employment insurance premiums  \n",
      "22     pension                     personal insurance and pension  \n",
      "23   insurance                     personal insurance and pension  \n",
      "24   insurance                 quebec parental insurance premiums  \n",
      "25     pension                     personal insurance and pension  \n",
      "26   insurance                     personal insurance and pension  \n",
      "27     pension               retirement and pension fund payments  \n",
      "28  retirement               retirement and pension fund payments  \n",
      "29     pension                     personal insurance and pension  \n",
      "30   insurance                     personal insurance and pension  \n",
      "31     pension          total canada/quebec pension plan payments  \n",
      "32     pension                     personal insurance and pension  \n",
      "33   insurance                     personal insurance and pension  \n",
      "34     pension            payments to retirement or pension funds  \n",
      "35  retirement            payments to retirement or pension funds  \n",
      "36     pension                     personal insurance and pension  \n",
      "37   insurance                     personal insurance and pension  \n",
      "38     pension                     personal insurance and pension  \n",
      "39   insurance                     personal insurance and pension  \n",
      "40   insurance     premiums on life, term and endowment insurance  \n",
      "41     pension                     personal insurance and pension  \n",
      "42   insurance                     personal insurance and pension  \n"
     ]
    }
   ],
   "source": [
    "# (2) Define the terms we want to detect\n",
    "search_terms = [\"pension\", \"retirement\", \"insurance\"]\n",
    "\n",
    "# (3) A helper function to scan all relevant columns in a DataFrame\n",
    "def find_keywords(df, df_name, columns_to_check, keywords):\n",
    "    matches = []\n",
    "    for idx, row in df.iterrows():\n",
    "        for col in columns_to_check:\n",
    "            val = str(row.get(col, \"\")).lower()\n",
    "            for term in keywords:\n",
    "                if term in val:\n",
    "                    # Record a match\n",
    "                    matches.append({\n",
    "                        \"DataFrame\": df_name,\n",
    "                        \"RowIndex\": idx,\n",
    "                        \"Column\": col,\n",
    "                        \"Variable\": row.get(\"Variable\", \"\"),\n",
    "                        \"MatchedTerm\": term,\n",
    "                        \"FullText\": val\n",
    "                    })\n",
    "    return matches\n",
    "\n",
    "# (4) Perform the searches\n",
    "metadata_search_results = []\n",
    "\n",
    "# DemoStats\n",
    "metadata_search_results += find_keywords(\n",
    "    demo_change_list, \"DemoStats_Change_List\",\n",
    "    [\"Variable\", \"Description\", \"Category\"], search_terms\n",
    ")\n",
    "metadata_search_results += find_keywords(\n",
    "    demo_vars_list, \"DemoStats_List\",\n",
    "    [\"Variable\", \"Description\", \"Hierarchy Description\", \"Category\"], search_terms\n",
    ")\n",
    "\n",
    "# HouseholdSpend\n",
    "metadata_search_results += find_keywords(\n",
    "    household_change_list, \"HouseholdSpend_Change_List\",\n",
    "    [\"Variable\", \"Description\", \"Category\"], search_terms\n",
    ")\n",
    "metadata_search_results += find_keywords(\n",
    "    household_vars_list, \"HouseholdSpend_List\",\n",
    "    [\"Variable\", \"Description\", \"Category\", \"Consumption\"], search_terms\n",
    ")\n",
    "\n",
    "# (5) Display or print results\n",
    "if metadata_search_results:\n",
    "    df_matches = pd.DataFrame(metadata_search_results)\n",
    "    print(\"FOUND THE FOLLOWING MATCHES:\")\n",
    "    print(df_matches)\n",
    "else:\n",
    "    print(\"No references to 'pension', 'retirement', or 'insurance' found in these metadata files.\")"
   ]
  },
  {
   "cell_type": "code",
   "execution_count": 5,
   "metadata": {},
   "outputs": [
    {
     "name": "stdout",
     "output_type": "stream",
     "text": [
      "DEMOStats pension/retirement/insurance variables: ['ECYINDFINA']\n",
      "HOUSEHOLDSpend pension/retirement/insurance variables: ['HSEP001', 'HSEP001S', 'HSEP002', 'HSEP003', 'HSEP004', 'HSEP005', 'HSEP006', 'HSEP007', 'HSEP008', 'HSEP009', 'HSHC022', 'HSHC025', 'HSRV011', 'HSSH006', 'HSSH015', 'HSSH019', 'HSSH044', 'HSTR032']\n"
     ]
    }
   ],
   "source": [
    "df_keyword_matches = pd.DataFrame(metadata_search_results)\n",
    "\n",
    "# 4) Build lists of pension/retirement/insurance variables from the results\n",
    "demo_matches = df_keyword_matches[df_keyword_matches[\"DataFrame\"].str.contains(\"DemoStats\")]\n",
    "household_matches = df_keyword_matches[df_keyword_matches[\"DataFrame\"].str.contains(\"HouseholdSpend\")]\n",
    "\n",
    "demo_drop_vars = sorted(set(demo_matches[\"Variable\"]))\n",
    "household_drop_vars = sorted(set(household_matches[\"Variable\"]))\n",
    "\n",
    "print(\"DEMOStats pension/retirement/insurance variables:\", demo_drop_vars)\n",
    "print(\"HOUSEHOLDSpend pension/retirement/insurance variables:\", household_drop_vars)"
   ]
  },
  {
   "cell_type": "code",
   "execution_count": 6,
   "metadata": {},
   "outputs": [
    {
     "name": "stdout",
     "output_type": "stream",
     "text": [
      "DEMOStats 'No Longer Available': ['EHYMTN75P', 'EHYCFSC1C', 'EHYCFSC2C', 'EHYCFSC3C', 'EHYCFSM1C', 'EHYCFSM2C', 'EHYCFSM3C', 'EHYCFSCL1C', 'EHYCFSCL2C', 'EHYCFSCL3C', 'EHYCFSLP1C', 'EHYCFSLP2C', 'EHYCFSLP3C', 'EHYCFSFP1C', 'EHYCFSFP2C', 'EHYCFSFP3C', 'EHYCFSMP1C', 'EHYCFSMP2C', 'EHYCFSMP3C', 'EHYHFSC1C', 'EHYHFSC2C', 'EHYHFSC3C', 'EHYHFSM1C', 'EHYHFSM2C', 'EHYHFSM3C', 'EHYHFSCL1C', 'EHYHFSCL2C', 'EHYHFSCL3C', 'EHYHFSLP1C', 'EHYHFSLP2C', 'EHYHFSLP3C', 'EHYHFSFP1C', 'EHYHFSFP2C', 'EHYHFSFP3C', 'EHYHFSMP1C', 'EHYHFSMP2C', 'EHYHFSMP3C', 'ECYMTN75P', 'ECYCFSC1C', 'ECYCFSC2C', 'ECYCFSC3C', 'ECYCFSM1C', 'ECYCFSM2C', 'ECYCFSM3C', 'ECYCFSCL1C', 'ECYCFSCL2C', 'ECYCFSCL3C', 'ECYCFSLP1C', 'ECYCFSLP2C', 'ECYCFSLP3C', 'ECYCFSFP1C', 'ECYCFSFP2C', 'ECYCFSFP3C', 'ECYCFSMP1C', 'ECYCFSMP2C', 'ECYCFSMP3C', 'ECYHFSC1C', 'ECYHFSC2C', 'ECYHFSC3C', 'ECYHFSM1C', 'ECYHFSM2C', 'ECYHFSM3C', 'ECYHFSCL1C', 'ECYHFSCL2C', 'ECYHFSCL3C', 'ECYHFSLP1C', 'ECYHFSLP2C', 'ECYHFSLP3C', 'ECYHFSFP1C', 'ECYHFSFP2C', 'ECYHFSFP3C', 'ECYHFSMP1C', 'ECYHFSMP2C', 'ECYHFSMP3C', 'ECYPIM0105', 'ECYPIM0610', 'ECYPIM1116', 'ECYPIM17CY', 'P3YMTN75P', 'P3YCFSC1C', 'P3YCFSC2C', 'P3YCFSC3C', 'P3YCFSM1C', 'P3YCFSM2C', 'P3YCFSM3C', 'P3YCFSCL1C', 'P3YCFSCL2C', 'P3YCFSCL3C', 'P3YCFSLP1C', 'P3YCFSLP2C', 'P3YCFSLP3C', 'P3YCFSFP1C', 'P3YCFSFP2C', 'P3YCFSFP3C', 'P3YCFSMP1C', 'P3YCFSMP2C', 'P3YCFSMP3C', 'P3YHFSC1C', 'P3YHFSC2C', 'P3YHFSC3C', 'P3YHFSM1C', 'P3YHFSM2C', 'P3YHFSM3C', 'P3YHFSCL1C', 'P3YHFSCL2C', 'P3YHFSCL3C', 'P3YHFSLP1C', 'P3YHFSLP2C', 'P3YHFSLP3C', 'P3YHFSFP1C', 'P3YHFSFP2C', 'P3YHFSFP3C', 'P3YHFSMP1C', 'P3YHFSMP2C', 'P3YHFSMP3C', 'P5YMTN75P', 'P5YCFSC1C', 'P5YCFSC2C', 'P5YCFSC3C', 'P5YCFSM1C', 'P5YCFSM2C', 'P5YCFSM3C', 'P5YCFSCL1C', 'P5YCFSCL2C', 'P5YCFSCL3C', 'P5YCFSLP1C', 'P5YCFSLP2C', 'P5YCFSLP3C', 'P5YCFSFP1C', 'P5YCFSFP2C', 'P5YCFSFP3C', 'P5YCFSMP1C', 'P5YCFSMP2C', 'P5YCFSMP3C', 'P5YHFSC1C', 'P5YHFSC2C', 'P5YHFSC3C', 'P5YHFSM1C', 'P5YHFSM2C', 'P5YHFSM3C', 'P5YHFSCL1C', 'P5YHFSCL2C', 'P5YHFSCL3C', 'P5YHFSLP1C', 'P5YHFSLP2C', 'P5YHFSLP3C', 'P5YHFSFP1C', 'P5YHFSFP2C', 'P5YHFSFP3C', 'P5YHFSMP1C', 'P5YHFSMP2C', 'P5YHFSMP3C', 'P0YMTN75P', 'P0YCFSC1C', 'P0YCFSC2C', 'P0YCFSC3C', 'P0YCFSM1C', 'P0YCFSM2C', 'P0YCFSM3C', 'P0YCFSCL1C', 'P0YCFSCL2C', 'P0YCFSCL3C', 'P0YCFSLP1C', 'P0YCFSLP2C', 'P0YCFSLP3C', 'P0YCFSFP1C', 'P0YCFSFP2C', 'P0YCFSFP3C', 'P0YCFSMP1C', 'P0YCFSMP2C', 'P0YCFSMP3C', 'P0YHFSC1C', 'P0YHFSC2C', 'P0YHFSC3C', 'P0YHFSM1C', 'P0YHFSM2C', 'P0YHFSM3C', 'P0YHFSCL1C', 'P0YHFSCL2C', 'P0YHFSCL3C', 'P0YHFSLP1C', 'P0YHFSLP2C', 'P0YHFSLP3C', 'P0YHFSFP1C', 'P0YHFSFP2C', 'P0YHFSFP3C', 'P0YHFSMP1C', 'P0YHFSMP2C', 'P0YHFSMP3C']\n",
      "HOUSEHOLDSpend 'No Longer Available': ['HSTE001Z']\n"
     ]
    }
   ],
   "source": [
    "#Find “No Longer Available” variables in the Change Lists\n",
    "demo_no_longer = demo_change_list[demo_change_list[\"Change Type\"]\n",
    "                                  .str.lower().str.contains(\"no longer available\")]\n",
    "household_no_longer = household_change_list[household_change_list[\"Change Type\"]\n",
    "                                            .str.lower().str.contains(\"no longer available\")]\n",
    "\n",
    "demo_no_longer_list = demo_no_longer[\"Variable\"].unique().tolist()\n",
    "household_no_longer_list = household_no_longer[\"Variable\"].unique().tolist()\n",
    "\n",
    "print(\"DEMOStats 'No Longer Available':\", demo_no_longer_list)\n",
    "print(\"HOUSEHOLDSpend 'No Longer Available':\", household_no_longer_list)\n",
    "\n",
    "# Combined lists for each data product\n",
    "demo_all_drops = sorted(set(demo_drop_vars + demo_no_longer_list))\n",
    "household_all_drops = sorted(set(household_drop_vars + household_no_longer_list))\n",
    "\n"
   ]
  },
  {
   "cell_type": "code",
   "execution_count": 7,
   "metadata": {},
   "outputs": [
    {
     "name": "stdout",
     "output_type": "stream",
     "text": [
      "DEMOSTATS variables to drop:\n",
      " ['ECYINDFINA']\n",
      "HOUSEHOLD variables to drop:\n",
      " ['HSEP001', 'HSEP001S', 'HSEP002', 'HSEP003', 'HSEP004', 'HSEP005', 'HSEP006', 'HSEP007', 'HSEP008', 'HSEP009', 'HSHC022', 'HSHC025', 'HSRV011', 'HSSH006', 'HSSH015', 'HSSH019', 'HSSH044', 'HSTR032']\n"
     ]
    }
   ],
   "source": [
    "# -----------------------------\n",
    "# 2) CONVERT THE MATCHES INTO DROP LISTS\n",
    "# -----------------------------\n",
    "df_matches_demo = df_matches[df_matches[\"DataFrame\"].str.contains(\"DemoStats\")]\n",
    "df_matches_household = df_matches[df_matches[\"DataFrame\"].str.contains(\"HouseholdSpend\")]\n",
    "\n",
    "demo_drop_vars = sorted(set(df_matches_demo[\"Variable\"]))\n",
    "household_drop_vars = sorted(set(df_matches_household[\"Variable\"]))\n",
    "\n",
    "print(\"DEMOSTATS variables to drop:\\n\", demo_drop_vars)\n",
    "print(\"HOUSEHOLD variables to drop:\\n\", household_drop_vars)\n"
   ]
  },
  {
   "cell_type": "code",
   "execution_count": 8,
   "metadata": {},
   "outputs": [],
   "source": [
    "# 6) Load the original numeric data for DemoStats & HouseholdSpend\n",
    "df_demo_orig = pd.read_csv(\"Coursework Data/DemoStats.csv\")       # Replace path\n",
    "df_household_orig = pd.read_csv(\"Coursework Data/HouseholdSpend.csv\")\n",
    "\n",
    "# 7) Drop from each DataFrame the product-specific \"drop\" columns\n",
    "df_demo_clean = df_demo_orig.drop(columns=demo_all_drops, errors=\"ignore\")\n",
    "df_household_clean = df_household_orig.drop(columns=household_all_drops, errors=\"ignore\")\n"
   ]
  },
  {
   "cell_type": "code",
   "execution_count": 10,
   "metadata": {},
   "outputs": [],
   "source": [
    "# 8) Merge on [\"GEO\",\"CODE\"]\n",
    "df_merged = pd.merge(\n",
    "    df_demo_clean,\n",
    "    df_household_clean,\n",
    "    on=[\"GEO\",\"CODE\"],\n",
    "    how=\"inner\"\n",
    ")"
   ]
  },
  {
   "cell_type": "code",
   "execution_count": 11,
   "metadata": {},
   "outputs": [],
   "source": [
    "# 9) Remove duplicates\n",
    "df_merged.drop_duplicates(inplace=True)"
   ]
  },
  {
   "cell_type": "code",
   "execution_count": 12,
   "metadata": {},
   "outputs": [],
   "source": [
    "import numpy as np\n",
    "from sklearn.impute import SimpleImputer\n",
    "from sklearn.preprocessing import StandardScaler"
   ]
  },
  {
   "cell_type": "code",
   "execution_count": 14,
   "metadata": {},
   "outputs": [
    {
     "ename": "NameError",
     "evalue": "name 'columns_to_drop' is not defined",
     "output_type": "error",
     "traceback": [
      "\u001b[0;31m---------------------------------------------------------------------------\u001b[0m",
      "\u001b[0;31mNameError\u001b[0m                                 Traceback (most recent call last)",
      "Cell \u001b[0;32mIn[14], line 1\u001b[0m\n\u001b[0;32m----> 1\u001b[0m df_merged\u001b[38;5;241m.\u001b[39mdrop(columns\u001b[38;5;241m=\u001b[39m\u001b[43mcolumns_to_drop\u001b[49m, errors\u001b[38;5;241m=\u001b[39m\u001b[38;5;124m\"\u001b[39m\u001b[38;5;124mignore\u001b[39m\u001b[38;5;124m\"\u001b[39m, inplace\u001b[38;5;241m=\u001b[39m\u001b[38;5;28;01mTrue\u001b[39;00m)\n\u001b[1;32m      2\u001b[0m df_merged\u001b[38;5;241m.\u001b[39mdrop_duplicates(inplace\u001b[38;5;241m=\u001b[39m\u001b[38;5;28;01mTrue\u001b[39;00m)\n\u001b[1;32m      4\u001b[0m \u001b[38;5;28mprint\u001b[39m(\u001b[38;5;124m\"\u001b[39m\u001b[38;5;124mFull merged shape before sampling:\u001b[39m\u001b[38;5;124m\"\u001b[39m, df_merged\u001b[38;5;241m.\u001b[39mshape)\n",
      "\u001b[0;31mNameError\u001b[0m: name 'columns_to_drop' is not defined"
     ]
    }
   ],
   "source": [
    "df_merged.drop(columns=columns_to_drop, errors=\"ignore\", inplace=True)\n",
    "df_merged.drop_duplicates(inplace=True)\n",
    "\n",
    "print(\"Full merged shape before sampling:\", df_merged.shape)\n",
    "\n",
    "# ------------------------------------------------------------------\n",
    "# 4) SAMPLE THE DATAFRAME (e.g., 100k rows)\n",
    "# ------------------------------------------------------------------\n",
    "df_sample = df_merged.sample(n=100000, random_state=42)\n",
    "print(\"Sample shape:\", df_sample.shape)"
   ]
  },
  {
   "cell_type": "code",
   "execution_count": null,
   "metadata": {},
   "outputs": [],
   "source": [
    "df_numeric = df_sample.select_dtypes(include=[np.number])\n",
    "df_non_numeric = df_sample.select_dtypes(exclude=[np.number])"
   ]
  },
  {
   "cell_type": "code",
   "execution_count": null,
   "metadata": {},
   "outputs": [],
   "source": []
  },
  {
   "cell_type": "code",
   "execution_count": 12,
   "metadata": {},
   "outputs": [],
   "source": [
    "# Check for inf values\n",
    "import numpy as np\n",
    "mask_inf = df_numeric.isin([np.inf, -np.inf]).any(axis=1)\n",
    "if mask_inf.sum() > 0:\n",
    "    print(\"Found inf in these rows:\", mask_inf.sum())"
   ]
  },
  {
   "cell_type": "code",
   "execution_count": null,
   "metadata": {},
   "outputs": [],
   "source": [
    "imputer = SimpleImputer(strategy=\"median\")\n",
    "df_numeric_imputed = pd.DataFrame(\n",
    "    imputer.fit_transform(df_numeric),\n",
    "    columns=df_numeric.columns,\n",
    "    index=df_numeric.index\n",
    ")"
   ]
  },
  {
   "cell_type": "code",
   "execution_count": null,
   "metadata": {},
   "outputs": [],
   "source": [
    "# 11) IQR Filter for outliers\n",
    "def iqr_filter(df, multiplier=1.5):\n",
    "    df_filtered = df.copy()\n",
    "    for col in df_filtered.columns:\n",
    "        if pd.api.types.is_numeric_dtype(df_filtered[col]):\n",
    "            Q1 = df_filtered[col].quantile(0.25)\n",
    "            Q3 = df_filtered[col].quantile(0.75)\n",
    "            IQR = Q3 - Q1\n",
    "            lower_bound = Q1 - multiplier * IQR\n",
    "            upper_bound = Q3 + multiplier * IQR\n",
    "            df_filtered = df_filtered[\n",
    "                (df_filtered[col] >= lower_bound) & (df_filtered[col] <= upper_bound)\n",
    "            ]\n",
    "    return df_filtered\n",
    "\n",
    "df_iqr = iqr_filter(df_imputed)"
   ]
  }
 ],
 "metadata": {
  "kernelspec": {
   "display_name": "Python 3",
   "language": "python",
   "name": "python3"
  },
  "language_info": {
   "codemirror_mode": {
    "name": "ipython",
    "version": 3
   },
   "file_extension": ".py",
   "mimetype": "text/x-python",
   "name": "python",
   "nbconvert_exporter": "python",
   "pygments_lexer": "ipython3",
   "version": "3.9.13"
  }
 },
 "nbformat": 4,
 "nbformat_minor": 2
}
